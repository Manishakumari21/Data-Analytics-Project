{
 "cells": [
  {
   "cell_type": "code",
   "execution_count": null,
   "id": "327ee344-1cb7-49e1-9f5c-f990d13f90c3",
   "metadata": {},
   "outputs": [],
   "source": [
    "import numpy as np\n",
    "import pandas as pd\n",
    "import matplotlib.pyplot as plt\n",
    "import seaborn as sns\n",
    "df = pd.read_csv(\"rides_data.csv\" ,lineterminator=\"\\n\")\n",
    "df.head()"
   ]
  },
  {
   "cell_type": "code",
   "execution_count": 3,
   "id": "1bd7558b-d353-4046-8fcb-b1575bb90102",
   "metadata": {},
   "outputs": [
    {
     "name": "stdout",
     "output_type": "stream",
     "text": [
      "<class 'pandas.core.frame.DataFrame'>\n",
      "RangeIndex: 50000 entries, 0 to 49999\n",
      "Data columns (total 13 columns):\n",
      " #   Column           Non-Null Count  Dtype  \n",
      "---  ------           --------------  -----  \n",
      " 0   services         50000 non-null  object \n",
      " 1   date             50000 non-null  object \n",
      " 2   time             50000 non-null  object \n",
      " 3   ride_status      50000 non-null  object \n",
      " 4   source           50000 non-null  object \n",
      " 5   destination      50000 non-null  object \n",
      " 6   duration         50000 non-null  int64  \n",
      " 7   ride_id          50000 non-null  object \n",
      " 8   distance         50000 non-null  float64\n",
      " 9   ride_charge      44964 non-null  float64\n",
      " 10  misc_charge      44964 non-null  float64\n",
      " 11  total_fare       44964 non-null  float64\n",
      "  50000 non-null  object \n",
      "dtypes: float64(4), int64(1), object(8)\n",
      "memory usage: 5.0+ MB\n"
     ]
    }
   ],
   "source": [
    "df.info()"
   ]
  },
  {
   "cell_type": "code",
   "execution_count": 4,
   "id": "c92c7004-468f-4940-8582-9f086b29a39f",
   "metadata": {},
   "outputs": [
    {
     "data": {
      "text/plain": [
       "0           Balagere Harbor\n",
       "1    Basavanagudi 3rd Block\n",
       "2          Babusapalya Cove\n",
       "3         Mahadevapura Mews\n",
       "4           Ganganagar Cove\n",
       "Name: source, dtype: object"
      ]
     },
     "execution_count": 4,
     "metadata": {},
     "output_type": "execute_result"
    }
   ],
   "source": [
    "df['source'].head()"
   ]
  },
  {
   "cell_type": "code",
   "execution_count": 5,
   "id": "8eee80d2-4859-4542-953e-58860ec22946",
   "metadata": {},
   "outputs": [
    {
     "data": {
      "text/plain": [
       "np.int64(0)"
      ]
     },
     "execution_count": 5,
     "metadata": {},
     "output_type": "execute_result"
    }
   ],
   "source": [
    "df.duplicated().sum()\n"
   ]
  },
  {
   "cell_type": "code",
   "execution_count": 6,
   "id": "12680498-a084-408a-a3dd-c39678e6d10b",
   "metadata": {},
   "outputs": [
    {
     "data": {
      "text/html": [
       "<div>\n",
       "<style scoped>\n",
       "    .dataframe tbody tr th:only-of-type {\n",
       "        vertical-align: middle;\n",
       "    }\n",
       "\n",
       "    .dataframe tbody tr th {\n",
       "        vertical-align: top;\n",
       "    }\n",
       "\n",
       "    .dataframe thead th {\n",
       "        text-align: right;\n",
       "    }\n",
       "</style>\n",
       "<table border=\"1\" class=\"dataframe\">\n",
       "  <thead>\n",
       "    <tr style=\"text-align: right;\">\n",
       "      <th></th>\n",
       "      <th>duration</th>\n",
       "      <th>distance</th>\n",
       "      <th>ride_charge</th>\n",
       "      <th>misc_charge</th>\n",
       "      <th>total_fare</th>\n",
       "    </tr>\n",
       "  </thead>\n",
       "  <tbody>\n",
       "    <tr>\n",
       "      <th>count</th>\n",
       "      <td>50000.000000</td>\n",
       "      <td>50000.000000</td>\n",
       "      <td>44964.000000</td>\n",
       "      <td>44964.000000</td>\n",
       "      <td>44964.000000</td>\n",
       "    </tr>\n",
       "    <tr>\n",
       "      <th>mean</th>\n",
       "      <td>64.320100</td>\n",
       "      <td>25.528243</td>\n",
       "      <td>522.428805</td>\n",
       "      <td>24.964289</td>\n",
       "      <td>547.393093</td>\n",
       "    </tr>\n",
       "    <tr>\n",
       "      <th>std</th>\n",
       "      <td>31.852336</td>\n",
       "      <td>14.177136</td>\n",
       "      <td>274.726031</td>\n",
       "      <td>14.459417</td>\n",
       "      <td>275.094813</td>\n",
       "    </tr>\n",
       "    <tr>\n",
       "      <th>min</th>\n",
       "      <td>10.000000</td>\n",
       "      <td>1.000000</td>\n",
       "      <td>50.030000</td>\n",
       "      <td>0.000000</td>\n",
       "      <td>50.580000</td>\n",
       "    </tr>\n",
       "    <tr>\n",
       "      <th>25%</th>\n",
       "      <td>37.000000</td>\n",
       "      <td>13.260000</td>\n",
       "      <td>283.657500</td>\n",
       "      <td>12.400000</td>\n",
       "      <td>308.920000</td>\n",
       "    </tr>\n",
       "    <tr>\n",
       "      <th>50%</th>\n",
       "      <td>64.000000</td>\n",
       "      <td>25.460000</td>\n",
       "      <td>520.030000</td>\n",
       "      <td>25.070000</td>\n",
       "      <td>544.920000</td>\n",
       "    </tr>\n",
       "    <tr>\n",
       "      <th>75%</th>\n",
       "      <td>92.000000</td>\n",
       "      <td>37.860000</td>\n",
       "      <td>759.367500</td>\n",
       "      <td>37.510000</td>\n",
       "      <td>785.502500</td>\n",
       "    </tr>\n",
       "    <tr>\n",
       "      <th>max</th>\n",
       "      <td>119.000000</td>\n",
       "      <td>50.000000</td>\n",
       "      <td>999.960000</td>\n",
       "      <td>50.000000</td>\n",
       "      <td>1048.800000</td>\n",
       "    </tr>\n",
       "  </tbody>\n",
       "</table>\n",
       "</div>"
      ],
      "text/plain": [
       "           duration      distance   ride_charge   misc_charge    total_fare\n",
       "count  50000.000000  50000.000000  44964.000000  44964.000000  44964.000000\n",
       "mean      64.320100     25.528243    522.428805     24.964289    547.393093\n",
       "std       31.852336     14.177136    274.726031     14.459417    275.094813\n",
       "min       10.000000      1.000000     50.030000      0.000000     50.580000\n",
       "25%       37.000000     13.260000    283.657500     12.400000    308.920000\n",
       "50%       64.000000     25.460000    520.030000     25.070000    544.920000\n",
       "75%       92.000000     37.860000    759.367500     37.510000    785.502500\n",
       "max      119.000000     50.000000    999.960000     50.000000   1048.800000"
      ]
     },
     "execution_count": 6,
     "metadata": {},
     "output_type": "execute_result"
    }
   ],
   "source": [
    " df.describe()"
   ]
  },
  {
   "cell_type": "code",
   "execution_count": 7,
   "id": "c86dea91-5613-401f-9d55-ee39300d3804",
   "metadata": {},
   "outputs": [
    {
     "name": "stdout",
     "output_type": "stream",
     "text": [
      "datetime64[ns]\n"
     ]
    }
   ],
   "source": [
    "df['date']=pd.to_datetime(df['date'])\n",
    "print(df['date'].dtypes)"
   ]
  },
  {
   "cell_type": "code",
   "execution_count": 8,
   "id": "fdf5508f-d6b4-4b40-af79-b65766b27742",
   "metadata": {},
   "outputs": [
    {
     "data": {
      "text/plain": [
       "dtype('int32')"
      ]
     },
     "execution_count": 8,
     "metadata": {},
     "output_type": "execute_result"
    }
   ],
   "source": [
    "df['date']=df['date'].dt.year \n",
    "df['date'].dtypes"
   ]
  },
  {
   "cell_type": "code",
   "execution_count": 9,
   "id": "935fea13-f71b-4359-92dc-f44dc645f102",
   "metadata": {},
   "outputs": [
    {
     "data": {
      "text/html": [
       "<div>\n",
       "<style scoped>\n",
       "    .dataframe tbody tr th:only-of-type {\n",
       "        vertical-align: middle;\n",
       "    }\n",
       "\n",
       "    .dataframe tbody tr th {\n",
       "        vertical-align: top;\n",
       "    }\n",
       "\n",
       "    .dataframe thead th {\n",
       "        text-align: right;\n",
       "    }\n",
       "</style>\n",
       "<table border=\"1\" class=\"dataframe\">\n",
       "  <thead>\n",
       "    <tr style=\"text-align: right;\">\n",
       "      <th></th>\n",
       "      <th>services</th>\n",
       "      <th>date</th>\n",
       "      <th>time</th>\n",
       "      <th>ride_status</th>\n",
       "      <th>source</th>\n",
       "      <th>destination</th>\n",
       "      <th>duration</th>\n",
       "      <th>ride_id</th>\n",
       "      <th>distance</th>\n",
       "      <th>ride_charge</th>\n",
       "      <th>misc_charge</th>\n",
       "      <th>total_fare</th>\n",
       "      <th>payment_method\\r</th>\n",
       "    </tr>\n",
       "  </thead>\n",
       "  <tbody>\n",
       "    <tr>\n",
       "      <th>0</th>\n",
       "      <td>cab economy</td>\n",
       "      <td>2024</td>\n",
       "      <td>08:30:40.542646</td>\n",
       "      <td>completed</td>\n",
       "      <td>Balagere Harbor</td>\n",
       "      <td>Harohalli Nagar</td>\n",
       "      <td>39</td>\n",
       "      <td>RD3161218751875354</td>\n",
       "      <td>27.21</td>\n",
       "      <td>764.83</td>\n",
       "      <td>31.51</td>\n",
       "      <td>796.34</td>\n",
       "      <td>Amazon Pay\\r</td>\n",
       "    </tr>\n",
       "    <tr>\n",
       "      <th>1</th>\n",
       "      <td>auto</td>\n",
       "      <td>2024</td>\n",
       "      <td>23:36:51.542646</td>\n",
       "      <td>completed</td>\n",
       "      <td>Basavanagudi 3rd Block</td>\n",
       "      <td>Bikasipura 1st Stage</td>\n",
       "      <td>89</td>\n",
       "      <td>RD8171514284594096</td>\n",
       "      <td>34.03</td>\n",
       "      <td>314.83</td>\n",
       "      <td>49.52</td>\n",
       "      <td>364.35</td>\n",
       "      <td>Paytm\\r</td>\n",
       "    </tr>\n",
       "    <tr>\n",
       "      <th>2</th>\n",
       "      <td>auto</td>\n",
       "      <td>2024</td>\n",
       "      <td>11:05:37.542646</td>\n",
       "      <td>cancelled</td>\n",
       "      <td>Babusapalya Cove</td>\n",
       "      <td>Kothaguda Terrace</td>\n",
       "      <td>25</td>\n",
       "      <td>RD9376481122237926</td>\n",
       "      <td>20.24</td>\n",
       "      <td>NaN</td>\n",
       "      <td>NaN</td>\n",
       "      <td>NaN</td>\n",
       "      <td>nan\\r</td>\n",
       "    </tr>\n",
       "    <tr>\n",
       "      <th>3</th>\n",
       "      <td>cab economy</td>\n",
       "      <td>2024</td>\n",
       "      <td>08:45:10.542646</td>\n",
       "      <td>completed</td>\n",
       "      <td>Mahadevapura Mews</td>\n",
       "      <td>Kanakapura Arc</td>\n",
       "      <td>89</td>\n",
       "      <td>RD3676889143182765</td>\n",
       "      <td>31.17</td>\n",
       "      <td>484.73</td>\n",
       "      <td>15.84</td>\n",
       "      <td>500.57</td>\n",
       "      <td>QR scan\\r</td>\n",
       "    </tr>\n",
       "    <tr>\n",
       "      <th>4</th>\n",
       "      <td>cab economy</td>\n",
       "      <td>2024</td>\n",
       "      <td>00:26:44.542646</td>\n",
       "      <td>completed</td>\n",
       "      <td>Ganganagar Cove</td>\n",
       "      <td>Basaveshwaranagar Colony</td>\n",
       "      <td>95</td>\n",
       "      <td>RD6639410275948084</td>\n",
       "      <td>27.21</td>\n",
       "      <td>663.50</td>\n",
       "      <td>14.13</td>\n",
       "      <td>677.63</td>\n",
       "      <td>Amazon Pay\\r</td>\n",
       "    </tr>\n",
       "  </tbody>\n",
       "</table>\n",
       "</div>"
      ],
      "text/plain": [
       "      services  date             time ride_status                  source  \\\n",
       "0  cab economy  2024  08:30:40.542646   completed         Balagere Harbor   \n",
       "1         auto  2024  23:36:51.542646   completed  Basavanagudi 3rd Block   \n",
       "2         auto  2024  11:05:37.542646   cancelled        Babusapalya Cove   \n",
       "3  cab economy  2024  08:45:10.542646   completed       Mahadevapura Mews   \n",
       "4  cab economy  2024  00:26:44.542646   completed         Ganganagar Cove   \n",
       "\n",
       "                destination  duration             ride_id  distance  \\\n",
       "0           Harohalli Nagar        39  RD3161218751875354     27.21   \n",
       "1      Bikasipura 1st Stage        89  RD8171514284594096     34.03   \n",
       "2         Kothaguda Terrace        25  RD9376481122237926     20.24   \n",
       "3            Kanakapura Arc        89  RD3676889143182765     31.17   \n",
       "4  Basaveshwaranagar Colony        95  RD6639410275948084     27.21   \n",
       "\n",
       "   ride_charge  misc_charge  total_fare payment_method\\r  \n",
       "0       764.83        31.51      796.34     Amazon Pay\\r  \n",
       "1       314.83        49.52      364.35          Paytm\\r  \n",
       "2          NaN          NaN         NaN            nan\\r  \n",
       "3       484.73        15.84      500.57        QR scan\\r  \n",
       "4       663.50        14.13      677.63     Amazon Pay\\r  "
      ]
     },
     "execution_count": 9,
     "metadata": {},
     "output_type": "execute_result"
    }
   ],
   "source": [
    "df.head()"
   ]
  },
  {
   "cell_type": "code",
   "execution_count": 27,
   "id": "ef08e89d-ff16-4f65-bd75-a0d6020a5618",
   "metadata": {},
   "outputs": [],
   "source": [
    "cols = ['ride_id','ride_status','distance']"
   ]
  },
  {
   "cell_type": "code",
   "execution_count": 26,
   "id": "9846de22-a1e0-4b0a-bae6-6155174df878",
   "metadata": {},
   "outputs": [
    {
     "data": {
      "text/plain": [
       "Index(['services', 'date', 'time', 'source', 'destination', 'ride_charge',\n",
       "       'misc_charge', 'total_fare', 'payment_method\\r'],\n",
       "      dtype='object')"
      ]
     },
     "execution_count": 26,
     "metadata": {},
     "output_type": "execute_result"
    }
   ],
   "source": [
    "df.drop(cols, axis=1 , inplace=True,errors='ignore')\n",
    "df.columns"
   ]
  },
  {
   "cell_type": "code",
   "execution_count": 18,
   "id": "25bc38fb-141f-48ff-910f-d462491b083b",
   "metadata": {},
   "outputs": [
    {
     "data": {
      "text/html": [
       "<div>\n",
       "<style scoped>\n",
       "    .dataframe tbody tr th:only-of-type {\n",
       "        vertical-align: middle;\n",
       "    }\n",
       "\n",
       "    .dataframe tbody tr th {\n",
       "        vertical-align: top;\n",
       "    }\n",
       "\n",
       "    .dataframe thead th {\n",
       "        text-align: right;\n",
       "    }\n",
       "</style>\n",
       "<table border=\"1\" class=\"dataframe\">\n",
       "  <thead>\n",
       "    <tr style=\"text-align: right;\">\n",
       "      <th></th>\n",
       "      <th>services</th>\n",
       "      <th>date</th>\n",
       "      <th>time</th>\n",
       "      <th>source</th>\n",
       "      <th>destination</th>\n",
       "      <th>duration</th>\n",
       "      <th>ride_charge</th>\n",
       "      <th>misc_charge</th>\n",
       "      <th>total_fare</th>\n",
       "      <th>payment_method\\r</th>\n",
       "    </tr>\n",
       "  </thead>\n",
       "  <tbody>\n",
       "    <tr>\n",
       "      <th>0</th>\n",
       "      <td>cab economy</td>\n",
       "      <td>2024</td>\n",
       "      <td>08:30:40.542646</td>\n",
       "      <td>Balagere Harbor</td>\n",
       "      <td>Harohalli Nagar</td>\n",
       "      <td>39</td>\n",
       "      <td>764.83</td>\n",
       "      <td>31.51</td>\n",
       "      <td>796.34</td>\n",
       "      <td>Amazon Pay\\r</td>\n",
       "    </tr>\n",
       "    <tr>\n",
       "      <th>1</th>\n",
       "      <td>auto</td>\n",
       "      <td>2024</td>\n",
       "      <td>23:36:51.542646</td>\n",
       "      <td>Basavanagudi 3rd Block</td>\n",
       "      <td>Bikasipura 1st Stage</td>\n",
       "      <td>89</td>\n",
       "      <td>314.83</td>\n",
       "      <td>49.52</td>\n",
       "      <td>364.35</td>\n",
       "      <td>Paytm\\r</td>\n",
       "    </tr>\n",
       "    <tr>\n",
       "      <th>2</th>\n",
       "      <td>auto</td>\n",
       "      <td>2024</td>\n",
       "      <td>11:05:37.542646</td>\n",
       "      <td>Babusapalya Cove</td>\n",
       "      <td>Kothaguda Terrace</td>\n",
       "      <td>25</td>\n",
       "      <td>NaN</td>\n",
       "      <td>NaN</td>\n",
       "      <td>NaN</td>\n",
       "      <td>nan\\r</td>\n",
       "    </tr>\n",
       "    <tr>\n",
       "      <th>3</th>\n",
       "      <td>cab economy</td>\n",
       "      <td>2024</td>\n",
       "      <td>08:45:10.542646</td>\n",
       "      <td>Mahadevapura Mews</td>\n",
       "      <td>Kanakapura Arc</td>\n",
       "      <td>89</td>\n",
       "      <td>484.73</td>\n",
       "      <td>15.84</td>\n",
       "      <td>500.57</td>\n",
       "      <td>QR scan\\r</td>\n",
       "    </tr>\n",
       "    <tr>\n",
       "      <th>4</th>\n",
       "      <td>cab economy</td>\n",
       "      <td>2024</td>\n",
       "      <td>00:26:44.542646</td>\n",
       "      <td>Ganganagar Cove</td>\n",
       "      <td>Basaveshwaranagar Colony</td>\n",
       "      <td>95</td>\n",
       "      <td>663.50</td>\n",
       "      <td>14.13</td>\n",
       "      <td>677.63</td>\n",
       "      <td>Amazon Pay\\r</td>\n",
       "    </tr>\n",
       "  </tbody>\n",
       "</table>\n",
       "</div>"
      ],
      "text/plain": [
       "      services  date             time                  source  \\\n",
       "0  cab economy  2024  08:30:40.542646         Balagere Harbor   \n",
       "1         auto  2024  23:36:51.542646  Basavanagudi 3rd Block   \n",
       "2         auto  2024  11:05:37.542646        Babusapalya Cove   \n",
       "3  cab economy  2024  08:45:10.542646       Mahadevapura Mews   \n",
       "4  cab economy  2024  00:26:44.542646         Ganganagar Cove   \n",
       "\n",
       "                destination  duration  ride_charge  misc_charge  total_fare  \\\n",
       "0           Harohalli Nagar        39       764.83        31.51      796.34   \n",
       "1      Bikasipura 1st Stage        89       314.83        49.52      364.35   \n",
       "2         Kothaguda Terrace        25          NaN          NaN         NaN   \n",
       "3            Kanakapura Arc        89       484.73        15.84      500.57   \n",
       "4  Basaveshwaranagar Colony        95       663.50        14.13      677.63   \n",
       "\n",
       "  payment_method\\r  \n",
       "0     Amazon Pay\\r  \n",
       "1          Paytm\\r  \n",
       "2            nan\\r  \n",
       "3        QR scan\\r  \n",
       "4     Amazon Pay\\r  "
      ]
     },
     "execution_count": 18,
     "metadata": {},
     "output_type": "execute_result"
    }
   ],
   "source": [
    "df.head()"
   ]
  },
  {
   "cell_type": "code",
   "execution_count": 35,
   "id": "11c88267-cf2c-4db2-85c4-0ad329d379b1",
   "metadata": {},
   "outputs": [
    {
     "data": {
      "image/png": "[encoded data removed]",
      "text/plain": [
       "<Figure size 511.111x500 with 1 Axes>"
      ]
     },
     "metadata": {},
     "output_type": "display_data"
    }
   ],
   "source": [
    "sns.catplot(y='services',data=df,kind='count',\n",
    "           \n",
    "            color='#4287f5')\n",
    "plt.title(\"Services column distribution\")\n",
    "plt.show()"
   ]
  },
  {
   "cell_type": "code",
   "execution_count": null,
   "id": "a2825527-a326-42d7-b792-1490da249115",
   "metadata": {},
   "outputs": [],
   "source": []
  },
  {
   "cell_type": "code",
   "execution_count": null,
   "id": "da4e8abd-2624-4f9f-822c-c34d1598186d",
   "metadata": {},
   "outputs": [],
   "source": []
  }
 ],
 "metadata": {
  "kernelspec": {
   "display_name": "Python 3 (ipykernel)",
   "language": "python",
   "name": "python3"
  },
  "language_info": {
   "codemirror_mode": {
    "name": "ipython",
    "version": 3
   },
   "file_extension": ".py",
   "mimetype": "text/x-python",
   "name": "python",
   "nbconvert_exporter": "python",
   "pygments_lexer": "ipython3",
   "version": "3.13.3"
  }
 },
 "nbformat": 4,
 "nbformat_minor": 5
}
